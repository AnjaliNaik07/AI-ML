{
 "cells": [
  {
   "cell_type": "code",
   "execution_count": 1,
   "id": "92e4ee59",
   "metadata": {},
   "outputs": [
    {
     "name": "stdout",
     "output_type": "stream",
     "text": [
      "Following is the Breadth-First Search\n",
      "s a d b g c "
     ]
    }
   ],
   "source": [
    "## BFS \n",
    "\n",
    "graph = {\n",
    "   's': ['a','d'],\n",
    "   'a' : ['b'],\n",
    "   'd' : ['g'],\n",
    "   'b' : ['c'],\n",
    "   'c' : ['g'],\n",
    "   'g' : []\n",
    "}\n",
    "\n",
    "visited = [] # List for visited nodes.\n",
    "queue = []     #Initialize a queue\n",
    "\n",
    "def bfs(visited, graph, node): #function for BFS\n",
    "  visited.append(node)\n",
    "  queue.append(node)\n",
    "\n",
    "  while queue:          # Creating loop to visit each node\n",
    "    m = queue.pop(0) \n",
    "    print (m, end = \" \") \n",
    "\n",
    "    for neighbour in graph[m]:\n",
    "      if neighbour not in visited:\n",
    "        visited.append(neighbour)\n",
    "        queue.append(neighbour)\n",
    "\n",
    "# Driver Code\n",
    "print(\"Following is the Breadth-First Search\")\n",
    "bfs(visited, graph, 's') "
   ]
  },
  {
   "cell_type": "code",
   "execution_count": 2,
   "id": "39c5ae53",
   "metadata": {},
   "outputs": [
    {
     "name": "stdout",
     "output_type": "stream",
     "text": [
      "Enter the number of nodes: 4\n",
      "Enter the number of edges: 5\n",
      "Enter the edges along with their weights:\n",
      "0 1 1\n",
      "0 2 1\n",
      "0 3 2\n",
      "2 3 2\n",
      "1 3 3\n",
      "Enter the Source Node: 2\n",
      "Enter the Target/Destination Node: 1\n",
      "Path: 2 \n",
      "\n",
      "0 \n",
      "1 "
     ]
    }
   ],
   "source": [
    "## Be FS\n",
    "from queue import PriorityQueue\n",
    "import matplotlib.pyplot as plt\n",
    "import networkx as nx\n",
    "# for implementing BFS | returns path having lowest cost\n",
    "def best_first_search(source, target, n):\n",
    " visited = [0] * n\n",
    " visited[source] = True\n",
    " pq = PriorityQueue()\n",
    " pq.put((0, source))\n",
    " while pq.empty() == False:\n",
    "   u = pq.get()[1]\n",
    "   print(u, end=\" \") # the path having lowest cost\n",
    "   if u == target:\n",
    "     break\n",
    "   for v, c in graph[u]:\n",
    "     if visited[v] == False:\n",
    "       visited[v] = True\n",
    "       pq.put((c, v))\n",
    "       print()\n",
    "# for adding edges to graph\n",
    "def addedge(x, y, cost):\n",
    " graph[x].append((y, cost))\n",
    " graph[y].append((x, cost))\n",
    "\n",
    "v = int(input(\"Enter the number of nodes: \"))\n",
    "graph = [[] for i in range(v)] # undirected Graph\n",
    "e = int(input(\"Enter the number of edges: \"))\n",
    "print(\"Enter the edges along with their weights:\")\n",
    "for i in range(e):\n",
    " x, y, z = list(map(int, input().split()))\n",
    " addedge(x, y, z)\n",
    "source = int(input(\"Enter the Source Node: \"))\n",
    "target = int(input(\"Enter the Target/Destination Node: \"))\n",
    "print(\"Path: \", end = \"\")\n",
    "best_first_search(source, target, v)"
   ]
  },
  {
   "cell_type": "code",
   "execution_count": 3,
   "id": "8658eb44",
   "metadata": {},
   "outputs": [
    {
     "name": "stdout",
     "output_type": "stream",
     "text": [
      "Following is the Depth-First Search\n",
      "s\n",
      "a\n",
      "b\n",
      "c\n",
      "g\n",
      "d\n"
     ]
    }
   ],
   "source": [
    "graph = {\n",
    " 's' : ['a','d'],\n",
    " 'a' : ['b'],\n",
    " 'b' : ['c'],\n",
    " 'c': ['g'],\n",
    " 'd' : ['g'],\n",
    " 'g':[]\n",
    " \n",
    "}\n",
    "\n",
    "visited = set() # Set to keep track of visited nodes of graph.\n",
    "\n",
    "def dfs(visited, graph, node):  #function for dfs \n",
    "    if node not in visited:\n",
    "        print (node)\n",
    "        visited.add(node)\n",
    "        for neighbour in graph[node]:\n",
    "            dfs(visited, graph, neighbour)\n",
    "\n",
    "# Driver Code\n",
    "print(\"Following is the Depth-First Search\")\n",
    "dfs(visited, graph, 's')"
   ]
  },
  {
   "cell_type": "code",
   "execution_count": 4,
   "id": "7bdd6d17",
   "metadata": {},
   "outputs": [
    {
     "name": "stdout",
     "output_type": "stream",
     "text": [
      "[[0 0 0]\n",
      " [0 0 0]\n",
      " [0 0 0]]\n",
      "Board after 1 move\n",
      "[[0 0 1]\n",
      " [0 0 0]\n",
      " [0 0 0]]\n",
      "Winner is: None\n"
     ]
    }
   ],
   "source": [
    "## TIC TAC TOE\n",
    "import numpy as np\n",
    "import random\n",
    "from time import sleep\n",
    " \n",
    "def create_board():\n",
    " return(np.array([[0, 0, 0],\n",
    "   [0, 0, 0],\n",
    "   [0, 0, 0]]))\n",
    " \n",
    "def possibilities(board):\n",
    " l = []\n",
    " \n",
    " for i in range(len(board)):\n",
    "  for j in range(len(board)):\n",
    " \n",
    "    if board[i][j] == 0:\n",
    "     l.append((i, j))\n",
    " return(l)\n",
    " \n",
    "def random_place(board, player):\n",
    " selection = possibilities(board)\n",
    " current_loc = random.choice(selection)\n",
    " board[current_loc] = player\n",
    " return(board)\n",
    "\n",
    "def row_win(board, player):\n",
    "  for x in range(len(board)):\n",
    "    win = True\n",
    " \n",
    "    for y in range(len(board)):\n",
    "      if board[x, y] != player:\n",
    "        win = False\n",
    "        continue\n",
    " \n",
    "    if win == True:\n",
    "      return(win)\n",
    "  return(win)\n",
    " \n",
    "def col_win(board, player):\n",
    " for x in range(len(board)):\n",
    "   win = True\n",
    " \n",
    "   for y in range(len(board)):\n",
    "    if board[y][x] != player:\n",
    "     win = False\n",
    "     continue\n",
    " \n",
    "   if win == True:\n",
    "    return(win)\n",
    " return(win)\n",
    "\n",
    "def diag_win(board, player):\n",
    " win = True\n",
    " y = 0\n",
    " for x in range(len(board)):\n",
    "  if board[x, x] != player:\n",
    "    win = False\n",
    " if win:\n",
    "  return win\n",
    " win = True\n",
    " if win:\n",
    "   for x in range(len(board)):\n",
    "    y = len(board) - 1 - x\n",
    "    if board[x, y] != player:\n",
    "     win = False\n",
    " return win\n",
    " \n",
    "def evaluate(board):\n",
    " winner = 0\n",
    " \n",
    " for player in [1, 2]:\n",
    "  if (row_win(board, player) or\n",
    "    col_win(board,player) or \n",
    "    diag_win(board,player)): \n",
    "    winner = player \n",
    " if np.all(board != 0) and winner == 0:\n",
    "  winner = -1\n",
    "\n",
    "  return winner\n",
    "def play_game():\n",
    " board, winner, counter = create_board(), 0, 1\n",
    " print(board)\n",
    " sleep(2)\n",
    " \n",
    " while winner == 0:\n",
    "   for player in [1, 2]:\n",
    "    board = random_place(board, player)\n",
    "    print(\"Board after \" + str(counter) + \" move\")\n",
    "    print(board)\n",
    "    sleep(2)\n",
    "    counter += 1\n",
    "    winner = evaluate(board)\n",
    "    if winner != 0:\n",
    "     break\n",
    " return(winner)\n",
    "print(\"Winner is: \" + str(play_game()))"
   ]
  },
  {
   "cell_type": "code",
   "execution_count": 5,
   "id": "12a610ab",
   "metadata": {},
   "outputs": [
    {
     "name": "stdout",
     "output_type": "stream",
     "text": [
      "Steps: \n",
      "0 0\n",
      "4 0\n",
      "4 3\n",
      "0 3\n",
      "3 0\n",
      "3 3\n",
      "4 2\n",
      "0 2\n"
     ]
    },
    {
     "data": {
      "text/plain": [
       "True"
      ]
     },
     "execution_count": 5,
     "metadata": {},
     "output_type": "execute_result"
    }
   ],
   "source": [
    "#water jug\n",
    "from collections import defaultdict\n",
    "jug1,jug2,aim = 4,3,2\n",
    "visited = defaultdict(lambda: False)\n",
    "def waterJugSolver(amt1,amt2):\n",
    "    if(amt1 == aim and amt2 == 0)or(amt2 == aim and amt1 == 0):\n",
    "        print(amt1,amt2)\n",
    "        return True\n",
    "    if visited[(amt1,amt2)] == False:\n",
    "        print(amt1,amt2)\n",
    "        visited[(amt1,amt2)] = True\n",
    "        return(waterJugSolver(0,amt2)or \n",
    "         waterJugSolver(amt1,0)or\n",
    "         waterJugSolver(jug1,amt2)or\n",
    "         waterJugSolver(amt1,jug2)or\n",
    "         waterJugSolver(amt1+min(amt2,(jug1-amt1)),\n",
    "         amt2-min(amt2,(jug1-amt1)))or\n",
    "         waterJugSolver(amt1-min(amt1,(jug2-amt2)),\n",
    "         amt2+min(amt1,(jug2-amt2))))\n",
    "    else:\n",
    "       return False\n",
    "print(\"Steps: \")\n",
    "waterJugSolver(0,0)"
   ]
  },
  {
   "cell_type": "code",
   "execution_count": 6,
   "id": "64c5b0e6",
   "metadata": {},
   "outputs": [
    {
     "name": "stdout",
     "output_type": "stream",
     "text": [
      "Move disk 1 from source A to destination B\n",
      "Move disk 2 from source A to destination C\n",
      "Move disk 1 from source B to destination C\n",
      "Move disk 3 from source A to destination B\n",
      "Move disk 1 from source C to destination A\n",
      "Move disk 2 from source C to destination B\n",
      "Move disk 1 from source A to destination B\n"
     ]
    }
   ],
   "source": [
    "def TowerOfHanoi(n , source, destination, auxiliary):\n",
    "    if n==1:\n",
    "        print (\"Move disk 1 from source\",source,\"to destination\",destination)\n",
    "        return\n",
    "    TowerOfHanoi(n-1, source, auxiliary, destination)\n",
    "    print (\"Move disk\",n,\"from source\",source,\"to destination\",destination)\n",
    "    TowerOfHanoi(n-1, auxiliary, destination, source)\n",
    "\n",
    "n = 3\n",
    "TowerOfHanoi(n,'A','B','C')"
   ]
  },
  {
   "cell_type": "code",
   "execution_count": null,
   "id": "fe3fb1a2",
   "metadata": {},
   "outputs": [],
   "source": []
  }
 ],
 "metadata": {
  "kernelspec": {
   "display_name": "Python 3 (ipykernel)",
   "language": "python",
   "name": "python3"
  },
  "language_info": {
   "codemirror_mode": {
    "name": "ipython",
    "version": 3
   },
   "file_extension": ".py",
   "mimetype": "text/x-python",
   "name": "python",
   "nbconvert_exporter": "python",
   "pygments_lexer": "ipython3",
   "version": "3.9.13"
  }
 },
 "nbformat": 4,
 "nbformat_minor": 5
}
