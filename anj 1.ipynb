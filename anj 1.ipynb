{
 "cells": [
  {
   "cell_type": "code",
   "execution_count": 7,
   "id": "2942e55c",
   "metadata": {},
   "outputs": [
    {
     "name": "stdout",
     "output_type": "stream",
     "text": [
      "Following is the Breadth-First Search\n",
      "1 2 10 3 8 4 9 5 6 7 "
     ]
    }
   ],
   "source": [
    "graph={\n",
    "    '1':['2','10'],\n",
    "    '2':['3','8'],\n",
    "    '3':['4'],\n",
    "    '4':['5','6','7'],\n",
    "    '5':[],\n",
    "    '6':[],\n",
    "    '7':[],\n",
    "    '8':['9'],\n",
    "    '9':[],\n",
    "   '10':[]\n",
    "\n",
    "}\n",
    "visited=[]\n",
    "queue=[]\n",
    "def bfs(visited,graph,node):\n",
    "    visited.append(node)\n",
    "    queue.append(node)\n",
    "    while queue:\n",
    "        m=queue.pop(0)\n",
    "        print(m,end=\" \")\n",
    "        for neighbour in graph[m]:\n",
    "            if neighbour not in visited:\n",
    "                visited.append(neighbour)\n",
    "                queue.append(neighbour)\n",
    "print(\"Following is the Breadth-First Search\")\n",
    "bfs(visited,graph,'1')"
   ]
  },
  {
   "cell_type": "code",
   "execution_count": null,
   "id": "e2c9965f",
   "metadata": {},
   "outputs": [],
   "source": []
  },
  {
   "cell_type": "code",
   "execution_count": null,
   "id": "703b02c9",
   "metadata": {},
   "outputs": [],
   "source": []
  },
  {
   "cell_type": "code",
   "execution_count": 36,
   "id": "4481c009",
   "metadata": {},
   "outputs": [
    {
     "name": "stdout",
     "output_type": "stream",
     "text": [
      "Following is the Depth-First Search\n",
      "5\n",
      "3\n",
      "2\n",
      "1\n",
      "4\n",
      "8\n",
      "7\n",
      "6\n"
     ]
    }
   ],
   "source": [
    "graph ={\n",
    "  '5' :['3','7'],\n",
    "  '3' :['2', '4'],\n",
    "  '7' :['6'],\n",
    "  '6' :[],\n",
    "  '2' :['1'],\n",
    "   '1':[],\n",
    "  '4' :['8'],\n",
    "  '8' :[]\n",
    "   }\n",
    "visited = set() \n",
    "def dfs(visited,graph,node): \n",
    "    if node not in visited:\n",
    "        print(node)\n",
    "        visited.add(node)\n",
    "        for neighbour in graph[node]:\n",
    "            dfs(visited,graph,neighbour)\n",
    "\n",
    "# Driver Code\n",
    "print(\"Following is the Depth-First Search\")\n",
    "dfs(visited,graph,'5')"
   ]
  },
  {
   "cell_type": "code",
   "execution_count": 39,
   "id": "5c61dc0e",
   "metadata": {},
   "outputs": [
    {
     "name": "stdout",
     "output_type": "stream",
     "text": [
      "Steps:\n",
      "0 0\n",
      "4 0\n",
      "4 3\n",
      "0 3\n",
      "3 0\n",
      "3 3\n",
      "4 2\n",
      "0 2\n"
     ]
    },
    {
     "data": {
      "text/plain": [
       "True"
      ]
     },
     "execution_count": 39,
     "metadata": {},
     "output_type": "execute_result"
    }
   ],
   "source": [
    "from collections import defaultdict\n",
    "jug1,jug2,aim=4,3,2\n",
    "visited=defaultdict(lambda: False)\n",
    "def waterJugSolver(amt1, amt2):\n",
    "    if (amt1 == aim and amt2 == 0) or (amt2 == aim and amt1 == 0):\n",
    "        print(amt1, amt2)\n",
    "        return True\n",
    "    if visited[(amt1, amt2)] == False:\n",
    "        print(amt1, amt2)\n",
    "        visited[(amt1, amt2)] = True\n",
    "        return (waterJugSolver(0, amt2) or\n",
    "          waterJugSolver(amt1, 0) or\n",
    "          waterJugSolver(jug1, amt2) or\n",
    "          waterJugSolver(amt1, jug2) or\n",
    "          waterJugSolver(amt1 + min(amt2, (jug1-amt1)),\n",
    "          amt2 - min(amt2, (jug1-amt1))) or\n",
    "          waterJugSolver(amt1 - min(amt1, (jug2-amt2)),\n",
    "          amt2 + min(amt1, (jug2-amt2))))\n",
    "    else:\n",
    "        return False\n",
    "\n",
    "print(\"Steps:\")\n",
    "waterJugSolver(0,0)"
   ]
  },
  {
   "cell_type": "code",
   "execution_count": null,
   "id": "7a2ca0f1",
   "metadata": {},
   "outputs": [],
   "source": []
  },
  {
   "cell_type": "code",
   "execution_count": 62,
   "id": "5cbca9f0",
   "metadata": {},
   "outputs": [
    {
     "name": "stdout",
     "output_type": "stream",
     "text": [
      "Move disk 1 from source A to destination c\n",
      "Move disk 2 from source A to destination B\n",
      "Move disk 1 from source c to destination B\n"
     ]
    }
   ],
   "source": [
    "def TowerOfHanoi(n,source,destination,auxiliary):\n",
    "    if n==1:\n",
    "        print(\"Move disk 1 from source\",source,\"to destination\",destination)\n",
    "        return  \n",
    "    TowerOfHanoi(n-1,source,auxiliary,destination)\n",
    "    print(\"Move disk\",n,\"from source\",source,\"to destination\",destination)\n",
    "    TowerOfHanoi(n-1,auxiliary,destination,source)\n",
    "\n",
    "n=2\n",
    "TowerOfHanoi(n,'A','B','c')"
   ]
  },
  {
   "cell_type": "code",
   "execution_count": null,
   "id": "0b60aae9",
   "metadata": {},
   "outputs": [],
   "source": []
  }
 ],
 "metadata": {
  "kernelspec": {
   "display_name": "Python 3 (ipykernel)",
   "language": "python",
   "name": "python3"
  },
  "language_info": {
   "codemirror_mode": {
    "name": "ipython",
    "version": 3
   },
   "file_extension": ".py",
   "mimetype": "text/x-python",
   "name": "python",
   "nbconvert_exporter": "python",
   "pygments_lexer": "ipython3",
   "version": "3.9.7"
  }
 },
 "nbformat": 4,
 "nbformat_minor": 5
}
