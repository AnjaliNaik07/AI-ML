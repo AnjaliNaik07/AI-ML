{
 "cells": [
  {
   "cell_type": "code",
   "execution_count": 3,
   "id": "ebda8b0a",
   "metadata": {},
   "outputs": [
    {
     "name": "stdout",
     "output_type": "stream",
     "text": [
      "   Sunny  Warm Normal  Strong Warm.1    Same  Yes\n",
      "0  Sunny  Warm   High  Strong   Warm    Same  Yes\n",
      "1  Rainy  Cold   High  Strong   Warm  Change   No\n",
      "2  Sunny  Warm   High  Strong   Cool  Change  Yes\n",
      "The attributes are:  [['Sunny' 'Warm' 'High' 'Strong' 'Warm' 'Same']\n",
      " ['Rainy' 'Cold' 'High' 'Strong' 'Warm' 'Change']\n",
      " ['Sunny' 'Warm' 'High' 'Strong' 'Cool' 'Change']]\n",
      "The target is:  ['Yes' 'No' 'Yes']\n",
      "The final hypothesis is: ['Sunny' 'Warm' 'High' 'Strong' '?' '?']\n"
     ]
    }
   ],
   "source": [
    "import pandas as pd\n",
    "import numpy as np\n",
    " \n",
    "#to read the data in the csv file\n",
    "data = pd.read_csv(\"ws.csv\")\n",
    "print(data)\n",
    " \n",
    "#making an array of all the attributes\n",
    "d = np.array(data)[:,:-1]\n",
    "print(\"The attributes are: \",d)\n",
    " \n",
    "#segragating the target that has positive and negative examples\n",
    "target = np.array(data)[:,-1]\n",
    "print(\"The target is: \",target)\n",
    " \n",
    "#training function to implement find-s algorithm\n",
    "def train(c,t):\n",
    "    for i, val in enumerate(t):\n",
    "        if val == \"Yes\":\n",
    "            specific_hypothesis = c[i].copy()\n",
    "            break\n",
    "             \n",
    "    for i, val in enumerate(c):\n",
    "        if t[i] == \"Yes\":\n",
    "            for x in range(len(specific_hypothesis)):\n",
    "                if val[x] != specific_hypothesis[x]:\n",
    "                    specific_hypothesis[x] = '?'\n",
    "                else:\n",
    "                    pass\n",
    "                 \n",
    "    return specific_hypothesis\n",
    " \n",
    "#obtaining the final hypothesis\n",
    "print(\"The final hypothesis is:\",train(d,target))"
   ]
  },
  {
   "cell_type": "code",
   "execution_count": null,
   "id": "e93b4545",
   "metadata": {},
   "outputs": [],
   "source": []
  },
  {
   "cell_type": "code",
   "execution_count": null,
   "id": "7b3ee417",
   "metadata": {},
   "outputs": [],
   "source": []
  },
  {
   "cell_type": "code",
   "execution_count": 2,
   "id": "787e86af",
   "metadata": {},
   "outputs": [
    {
     "name": "stdout",
     "output_type": "stream",
     "text": [
      "[[], [], ['Sunny Warm Normal Strong Warm Same Yes'], ['Sunny Warm High   Strong Warm Same Yes'], ['Rainy Cold High   Strong Warm Change No'], ['Sunny Warm High   Strong Cool Change Yes']]\n"
     ]
    },
    {
     "ename": "IndexError",
     "evalue": "list index out of range",
     "output_type": "error",
     "traceback": [
      "\u001b[1;31m---------------------------------------------------------------------------\u001b[0m",
      "\u001b[1;31mIndexError\u001b[0m                                Traceback (most recent call last)",
      "\u001b[1;32m~\\AppData\\Local\\Temp\\ipykernel_30744\\4308648.py\u001b[0m in \u001b[0;36m<module>\u001b[1;34m\u001b[0m\n\u001b[0;32m      7\u001b[0m  \u001b[0mg\u001b[0m\u001b[1;33m=\u001b[0m\u001b[1;33m[\u001b[0m\u001b[1;33m[\u001b[0m\u001b[1;34m'?'\u001b[0m \u001b[1;32mfor\u001b[0m \u001b[0mi\u001b[0m \u001b[1;32min\u001b[0m \u001b[0mrange\u001b[0m\u001b[1;33m(\u001b[0m\u001b[0mlen\u001b[0m\u001b[1;33m(\u001b[0m\u001b[0ms\u001b[0m\u001b[1;33m)\u001b[0m\u001b[1;33m)\u001b[0m\u001b[1;33m]\u001b[0m \u001b[1;32mfor\u001b[0m \u001b[0mj\u001b[0m \u001b[1;32min\u001b[0m \u001b[0mrange\u001b[0m\u001b[1;33m(\u001b[0m\u001b[0mlen\u001b[0m\u001b[1;33m(\u001b[0m\u001b[0ms\u001b[0m\u001b[1;33m)\u001b[0m\u001b[1;33m)\u001b[0m\u001b[1;33m]\u001b[0m\u001b[1;33m\u001b[0m\u001b[1;33m\u001b[0m\u001b[0m\n\u001b[0;32m      8\u001b[0m  \u001b[1;32mfor\u001b[0m \u001b[0mi\u001b[0m \u001b[1;32min\u001b[0m \u001b[0mdata\u001b[0m\u001b[1;33m:\u001b[0m\u001b[1;33m\u001b[0m\u001b[1;33m\u001b[0m\u001b[0m\n\u001b[1;32m----> 9\u001b[1;33m   \u001b[1;32mif\u001b[0m \u001b[0mi\u001b[0m\u001b[1;33m[\u001b[0m\u001b[1;33m-\u001b[0m\u001b[1;36m1\u001b[0m\u001b[1;33m]\u001b[0m\u001b[1;33m==\u001b[0m\u001b[1;34m\"Yes\"\u001b[0m\u001b[1;33m:\u001b[0m\u001b[1;33m\u001b[0m\u001b[1;33m\u001b[0m\u001b[0m\n\u001b[0m\u001b[0;32m     10\u001b[0m    \u001b[1;32mfor\u001b[0m \u001b[0mj\u001b[0m \u001b[1;32min\u001b[0m \u001b[0mrange\u001b[0m\u001b[1;33m(\u001b[0m\u001b[0mlen\u001b[0m\u001b[1;33m(\u001b[0m\u001b[0ms\u001b[0m\u001b[1;33m)\u001b[0m\u001b[1;33m)\u001b[0m\u001b[1;33m:\u001b[0m\u001b[1;33m\u001b[0m\u001b[1;33m\u001b[0m\u001b[0m\n\u001b[0;32m     11\u001b[0m     \u001b[1;32mif\u001b[0m \u001b[0mi\u001b[0m\u001b[1;33m[\u001b[0m\u001b[0mj\u001b[0m\u001b[1;33m]\u001b[0m\u001b[1;33m!=\u001b[0m\u001b[0ms\u001b[0m\u001b[1;33m[\u001b[0m\u001b[0mj\u001b[0m\u001b[1;33m]\u001b[0m\u001b[1;33m:\u001b[0m\u001b[1;33m\u001b[0m\u001b[1;33m\u001b[0m\u001b[0m\n",
      "\u001b[1;31mIndexError\u001b[0m: list index out of range"
     ]
    }
   ],
   "source": [
    "import csv\n",
    "with open(\"ws.csv\") as f:\n",
    " csv_file=csv.reader(f)\n",
    " data=list(csv_file)\n",
    " print(data)\n",
    " s=data[1][:-1]\n",
    " g=[['?' for i in range(len(s))] for j in range(len(s))]\n",
    " for i in data:\n",
    "  if i[-1]==\"Yes\":\n",
    "   for j in range(len(s)):\n",
    "    if i[j]!=s[j]:\n",
    "     s[j]='?'\n",
    "     g[j][j]='?'\n",
    "  elif i[-1]==\"No\":\n",
    "     for j in range(len(s)):\n",
    "      if i[j]!=s[j]:\n",
    "       g[j][j]=s[j]\n",
    "      else:\n",
    "       g[j][j]=\"?\"\n",
    "print(\"\\nSteps of Candidate Elimination Algorithm\",data.index(i)+1)\n",
    "print(s)\n",
    "print(g)\n",
    "gh=[]\n",
    "\n",
    "for i in g:\n",
    " for j in i:\n",
    "  if j!='?':\n",
    "   gh.append(i)\n",
    "   break\n",
    "print(\"\\nFinal specific hypothesis:\\n\",s)\n",
    "print(\"\\nFinal general hypothesis:\\n\",gh)"
   ]
  },
  {
   "cell_type": "code",
   "execution_count": null,
   "id": "48e5693f",
   "metadata": {},
   "outputs": [],
   "source": []
  },
  {
   "cell_type": "code",
   "execution_count": null,
   "id": "05dc5d5f",
   "metadata": {},
   "outputs": [],
   "source": []
  },
  {
   "cell_type": "code",
   "execution_count": null,
   "id": "8de8bd8d",
   "metadata": {},
   "outputs": [],
   "source": []
  }
 ],
 "metadata": {
  "kernelspec": {
   "display_name": "Python 3 (ipykernel)",
   "language": "python",
   "name": "python3"
  },
  "language_info": {
   "codemirror_mode": {
    "name": "ipython",
    "version": 3
   },
   "file_extension": ".py",
   "mimetype": "text/x-python",
   "name": "python",
   "nbconvert_exporter": "python",
   "pygments_lexer": "ipython3",
   "version": "3.9.13"
  }
 },
 "nbformat": 4,
 "nbformat_minor": 5
}
